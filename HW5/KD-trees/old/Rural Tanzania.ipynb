{
 "cells": [
  {
   "cell_type": "code",
   "execution_count": 1,
   "id": "c0d0b10d",
   "metadata": {
    "scrolled": true
   },
   "outputs": [
    {
     "name": "stdout",
     "output_type": "stream",
     "text": [
      "%pylab is deprecated, use %matplotlib inline and import the required libraries.\n",
      "Populating the interactive namespace from numpy and matplotlib\n"
     ]
    }
   ],
   "source": [
    "%pylab inline\n",
    "from numpy import load\n",
    "from KDTreeEncoding import *\n",
    "from glob import glob"
   ]
  },
  {
   "cell_type": "code",
   "execution_count": 2,
   "id": "3e7b61ab",
   "metadata": {},
   "outputs": [
    {
     "data": {
      "text/plain": [
       "'/Users/yoavfreund/projects/Poverty_Analysis/KD-trees'"
      ]
     },
     "execution_count": 2,
     "metadata": {},
     "output_type": "execute_result"
    }
   ],
   "source": [
    "current=%pwd\n",
    "current"
   ]
  },
  {
   "cell_type": "code",
   "execution_count": 3,
   "id": "ccdc94fd",
   "metadata": {},
   "outputs": [
    {
     "data": {
      "text/plain": [
       "19669"
      ]
     },
     "execution_count": 3,
     "metadata": {},
     "output_type": "execute_result"
    }
   ],
   "source": [
    "_dir='/Users/yoavfreund/datasets/poverty_v1.1/images/'\n",
    "files=glob(f'{_dir}*.npz')\n",
    "len(files)"
   ]
  },
  {
   "cell_type": "code",
   "execution_count": 4,
   "id": "2bbaabbc",
   "metadata": {},
   "outputs": [
    {
     "name": "stdout",
     "output_type": "stream",
     "text": [
      "CPU times: user 1.58 s, sys: 181 ms, total: 1.76 s\n",
      "Wall time: 1.84 s\n"
     ]
    }
   ],
   "source": [
    "%%time\n",
    "train_size,tree=train_encoder(files[:100])"
   ]
  },
  {
   "cell_type": "code",
   "execution_count": 5,
   "id": "77f6ca3c",
   "metadata": {},
   "outputs": [
    {
     "data": {
      "text/plain": [
       "5017600"
      ]
     },
     "execution_count": 5,
     "metadata": {},
     "output_type": "execute_result"
    }
   ],
   "source": [
    "train_size"
   ]
  },
  {
   "cell_type": "code",
   "execution_count": 6,
   "id": "e4e0d48d",
   "metadata": {},
   "outputs": [
    {
     "name": "stdout",
     "output_type": "stream",
     "text": [
      "README.md                \u001b[34mafrica_poverty_git\u001b[m\u001b[m       anon_images.tgz          \u001b[34mimages\u001b[m\u001b[m\r\n",
      "RELEASE_v1.1.txt         \u001b[34manon_images\u001b[m\u001b[m              dhs_incountry_folds.pkl  poverty_deepLearning.pdf\r\n"
     ]
    }
   ],
   "source": [
    "poverty_dir='/Users/yoavfreund/datasets/poverty_v1.1'\n",
    "!ls $poverty_dir"
   ]
  },
  {
   "cell_type": "code",
   "execution_count": 7,
   "id": "e18e3092",
   "metadata": {},
   "outputs": [],
   "source": [
    "import pandas as pd"
   ]
  },
  {
   "cell_type": "code",
   "execution_count": 8,
   "id": "0ed2e2f2",
   "metadata": {
    "scrolled": true
   },
   "outputs": [
    {
     "data": {
      "text/html": [
       "<div>\n",
       "<style scoped>\n",
       "    .dataframe tbody tr th:only-of-type {\n",
       "        vertical-align: middle;\n",
       "    }\n",
       "\n",
       "    .dataframe tbody tr th {\n",
       "        vertical-align: top;\n",
       "    }\n",
       "\n",
       "    .dataframe thead th {\n",
       "        text-align: right;\n",
       "    }\n",
       "</style>\n",
       "<table border=\"1\" class=\"dataframe\">\n",
       "  <thead>\n",
       "    <tr style=\"text-align: right;\">\n",
       "      <th></th>\n",
       "      <th>lat</th>\n",
       "      <th>lon</th>\n",
       "      <th>wealthpooled</th>\n",
       "      <th>country</th>\n",
       "      <th>year</th>\n",
       "      <th>urban</th>\n",
       "      <th>nl_mean</th>\n",
       "      <th>nl_center</th>\n",
       "      <th>households</th>\n",
       "    </tr>\n",
       "  </thead>\n",
       "  <tbody>\n",
       "    <tr>\n",
       "      <th>15410</th>\n",
       "      <td>-1.369792</td>\n",
       "      <td>34.660076</td>\n",
       "      <td>-0.761560</td>\n",
       "      <td>tanzania</td>\n",
       "      <td>2010</td>\n",
       "      <td>False</td>\n",
       "      <td>-0.173862</td>\n",
       "      <td>-0.173862</td>\n",
       "      <td>22</td>\n",
       "    </tr>\n",
       "    <tr>\n",
       "      <th>15411</th>\n",
       "      <td>-1.400853</td>\n",
       "      <td>34.556240</td>\n",
       "      <td>-0.687581</td>\n",
       "      <td>tanzania</td>\n",
       "      <td>2010</td>\n",
       "      <td>False</td>\n",
       "      <td>-0.018425</td>\n",
       "      <td>0.085971</td>\n",
       "      <td>17</td>\n",
       "    </tr>\n",
       "  </tbody>\n",
       "</table>\n",
       "</div>"
      ],
      "text/plain": [
       "            lat        lon  wealthpooled   country  year  urban   nl_mean  \\\n",
       "15410 -1.369792  34.660076     -0.761560  tanzania  2010  False -0.173862   \n",
       "15411 -1.400853  34.556240     -0.687581  tanzania  2010  False -0.018425   \n",
       "\n",
       "       nl_center  households  \n",
       "15410  -0.173862          22  \n",
       "15411   0.085971          17  "
      ]
     },
     "execution_count": 8,
     "metadata": {},
     "output_type": "execute_result"
    }
   ],
   "source": [
    "T=pd.read_csv(f'{current}/../tables/dhs_metadata.csv')\n",
    "\n",
    "rural_tanzania=pd.DataFrame(T[(T['country']=='tanzania') & (T['urban']==False)])\n",
    "\n",
    "rural_tanzania.head(2)"
   ]
  },
  {
   "cell_type": "code",
   "execution_count": 9,
   "id": "7304b37a",
   "metadata": {
    "scrolled": true
   },
   "outputs": [
    {
     "data": {
      "text/html": [
       "<div>\n",
       "<style scoped>\n",
       "    .dataframe tbody tr th:only-of-type {\n",
       "        vertical-align: middle;\n",
       "    }\n",
       "\n",
       "    .dataframe tbody tr th {\n",
       "        vertical-align: top;\n",
       "    }\n",
       "\n",
       "    .dataframe thead th {\n",
       "        text-align: right;\n",
       "    }\n",
       "</style>\n",
       "<table border=\"1\" class=\"dataframe\">\n",
       "  <thead>\n",
       "    <tr style=\"text-align: right;\">\n",
       "      <th></th>\n",
       "      <th>lat</th>\n",
       "      <th>lon</th>\n",
       "      <th>wealthpooled</th>\n",
       "      <th>country</th>\n",
       "      <th>year</th>\n",
       "      <th>urban</th>\n",
       "      <th>nl_mean</th>\n",
       "      <th>nl_center</th>\n",
       "      <th>households</th>\n",
       "      <th>rich</th>\n",
       "      <th>index</th>\n",
       "    </tr>\n",
       "  </thead>\n",
       "  <tbody>\n",
       "    <tr>\n",
       "      <th>15410</th>\n",
       "      <td>-1.369792</td>\n",
       "      <td>34.660076</td>\n",
       "      <td>-0.761560</td>\n",
       "      <td>tanzania</td>\n",
       "      <td>2010</td>\n",
       "      <td>False</td>\n",
       "      <td>-0.173862</td>\n",
       "      <td>-0.173862</td>\n",
       "      <td>22</td>\n",
       "      <td>False</td>\n",
       "      <td>15410</td>\n",
       "    </tr>\n",
       "    <tr>\n",
       "      <th>15411</th>\n",
       "      <td>-1.400853</td>\n",
       "      <td>34.556240</td>\n",
       "      <td>-0.687581</td>\n",
       "      <td>tanzania</td>\n",
       "      <td>2010</td>\n",
       "      <td>False</td>\n",
       "      <td>-0.018425</td>\n",
       "      <td>0.085971</td>\n",
       "      <td>17</td>\n",
       "      <td>False</td>\n",
       "      <td>15411</td>\n",
       "    </tr>\n",
       "    <tr>\n",
       "      <th>15412</th>\n",
       "      <td>-3.734950</td>\n",
       "      <td>35.566425</td>\n",
       "      <td>-0.750120</td>\n",
       "      <td>tanzania</td>\n",
       "      <td>2010</td>\n",
       "      <td>False</td>\n",
       "      <td>-0.173862</td>\n",
       "      <td>-0.173862</td>\n",
       "      <td>20</td>\n",
       "      <td>False</td>\n",
       "      <td>15412</td>\n",
       "    </tr>\n",
       "    <tr>\n",
       "      <th>15413</th>\n",
       "      <td>-5.035908</td>\n",
       "      <td>38.362194</td>\n",
       "      <td>-0.737002</td>\n",
       "      <td>tanzania</td>\n",
       "      <td>2010</td>\n",
       "      <td>False</td>\n",
       "      <td>-0.173862</td>\n",
       "      <td>-0.173862</td>\n",
       "      <td>21</td>\n",
       "      <td>False</td>\n",
       "      <td>15413</td>\n",
       "    </tr>\n",
       "    <tr>\n",
       "      <th>15414</th>\n",
       "      <td>-5.440775</td>\n",
       "      <td>38.285057</td>\n",
       "      <td>-0.518625</td>\n",
       "      <td>tanzania</td>\n",
       "      <td>2010</td>\n",
       "      <td>False</td>\n",
       "      <td>-0.173862</td>\n",
       "      <td>-0.173862</td>\n",
       "      <td>19</td>\n",
       "      <td>False</td>\n",
       "      <td>15414</td>\n",
       "    </tr>\n",
       "  </tbody>\n",
       "</table>\n",
       "</div>"
      ],
      "text/plain": [
       "            lat        lon  wealthpooled   country  year  urban   nl_mean  \\\n",
       "15410 -1.369792  34.660076     -0.761560  tanzania  2010  False -0.173862   \n",
       "15411 -1.400853  34.556240     -0.687581  tanzania  2010  False -0.018425   \n",
       "15412 -3.734950  35.566425     -0.750120  tanzania  2010  False -0.173862   \n",
       "15413 -5.035908  38.362194     -0.737002  tanzania  2010  False -0.173862   \n",
       "15414 -5.440775  38.285057     -0.518625  tanzania  2010  False -0.173862   \n",
       "\n",
       "       nl_center  households   rich  index  \n",
       "15410  -0.173862          22  False  15410  \n",
       "15411   0.085971          17  False  15411  \n",
       "15412  -0.173862          20  False  15412  \n",
       "15413  -0.173862          21  False  15413  \n",
       "15414  -0.173862          19  False  15414  "
      ]
     },
     "execution_count": 9,
     "metadata": {},
     "output_type": "execute_result"
    }
   ],
   "source": [
    "rural_tanzania['rich']=rural_tanzania['wealthpooled']>-0.5\n",
    "rural_tanzania['index']=rural_tanzania.index\n",
    "rural_tanzania.head()"
   ]
  },
  {
   "cell_type": "code",
   "execution_count": 10,
   "id": "b83285cd",
   "metadata": {},
   "outputs": [
    {
     "data": {
      "text/plain": [
       "(1216, 11)"
      ]
     },
     "execution_count": 10,
     "metadata": {},
     "output_type": "execute_result"
    }
   ],
   "source": [
    "rural_tanzania.shape"
   ]
  },
  {
   "cell_type": "code",
   "execution_count": 11,
   "id": "b641e827",
   "metadata": {},
   "outputs": [],
   "source": [
    "import pickle as pkl\n"
   ]
  },
  {
   "cell_type": "code",
   "execution_count": 12,
   "id": "b837c283",
   "metadata": {},
   "outputs": [
    {
     "data": {
      "text/plain": [
       "0"
      ]
     },
     "execution_count": 12,
     "metadata": {},
     "output_type": "execute_result"
    }
   ],
   "source": [
    "# encode a binary array as an int.\n",
    "def bin2int(c):\n",
    "    ans=0\n",
    "    for j in range(len(c)):\n",
    "        bit=int(c[-(j+1)])\n",
    "        #print(j,bit)\n",
    "        ans+=bit*(2**j)\n",
    "    return ans\n",
    "\n",
    "file_template='/Users/yoavfreund/datasets/poverty_v1.1/partitioned_images/rural/tanzania/%d/landsat_poverty_img_%d.npz'\n",
    "Encoding={}\n",
    "j=1\n",
    "Mat=np.zeros([rural_tanzania.shape[0],2**9],dtype=np.float32)\n",
    "for i,row in rural_tanzania.iterrows():\n",
    "    year=row['year']\n",
    "    filename=file_template%(year,i)\n",
    "    if not filename in files:\n",
    "        break\n",
    "    code = encode_image(filename,tree)\n",
    "    V=np.zeros(2**9)\n",
    "    for c,a in code:\n",
    "        V[bin2int(c)]=a\n",
    "    Encoding[i]=V\n",
    "    if(j %10==0):\n",
    "        print(j,i,end='\\r')\n",
    "    j+=1\n",
    "\n",
    "len(Encoding)"
   ]
  },
  {
   "cell_type": "code",
   "execution_count": 13,
   "id": "ad0aeca0",
   "metadata": {},
   "outputs": [
    {
     "name": "stdout",
     "output_type": "stream",
     "text": [
      "%pylab is deprecated, use %matplotlib inline and import the required libraries.\n",
      "Populating the interactive namespace from numpy and matplotlib\n"
     ]
    },
    {
     "name": "stderr",
     "output_type": "stream",
     "text": [
      "/Users/yoavfreund/miniforge3/lib/python3.9/site-packages/xgboost/compat.py:36: FutureWarning: pandas.Int64Index is deprecated and will be removed from pandas in a future version. Use pandas.Index with the appropriate dtype instead.\n",
      "  from pandas import MultiIndex, Int64Index\n"
     ]
    }
   ],
   "source": [
    "%pylab inline\n",
    "import numpy as np\n",
    "import xgboost as xgb\n",
    "from sklearn.model_selection import train_test_split\n",
    "import matplotlib.pyplot as plt\n",
    "from lib import XGBHelper as xgbh\n",
    "\n",
    "from lib.logger import logger\n",
    "\n",
    "%load_ext autoreload\n",
    "\n",
    "%autoreload 2"
   ]
  },
  {
   "cell_type": "code",
   "execution_count": 14,
   "id": "188dadca",
   "metadata": {},
   "outputs": [
    {
     "data": {
      "text/html": [
       "<div>\n",
       "<style scoped>\n",
       "    .dataframe tbody tr th:only-of-type {\n",
       "        vertical-align: middle;\n",
       "    }\n",
       "\n",
       "    .dataframe tbody tr th {\n",
       "        vertical-align: top;\n",
       "    }\n",
       "\n",
       "    .dataframe thead th {\n",
       "        text-align: right;\n",
       "    }\n",
       "</style>\n",
       "<table border=\"1\" class=\"dataframe\">\n",
       "  <thead>\n",
       "    <tr style=\"text-align: right;\">\n",
       "      <th></th>\n",
       "      <th>rich</th>\n",
       "    </tr>\n",
       "  </thead>\n",
       "  <tbody>\n",
       "    <tr>\n",
       "      <th>15410</th>\n",
       "      <td>False</td>\n",
       "    </tr>\n",
       "    <tr>\n",
       "      <th>15411</th>\n",
       "      <td>False</td>\n",
       "    </tr>\n",
       "    <tr>\n",
       "      <th>15412</th>\n",
       "      <td>False</td>\n",
       "    </tr>\n",
       "    <tr>\n",
       "      <th>15413</th>\n",
       "      <td>False</td>\n",
       "    </tr>\n",
       "    <tr>\n",
       "      <th>15414</th>\n",
       "      <td>False</td>\n",
       "    </tr>\n",
       "  </tbody>\n",
       "</table>\n",
       "</div>"
      ],
      "text/plain": [
       "        rich\n",
       "15410  False\n",
       "15411  False\n",
       "15412  False\n",
       "15413  False\n",
       "15414  False"
      ]
     },
     "execution_count": 14,
     "metadata": {},
     "output_type": "execute_result"
    }
   ],
   "source": [
    "just_label=rural_tanzania[['rich']]\n",
    "rows=just_label.shape[0]\n",
    "just_label.head()"
   ]
  },
  {
   "cell_type": "code",
   "execution_count": 15,
   "id": "01e80ca6",
   "metadata": {},
   "outputs": [
    {
     "ename": "KeyError",
     "evalue": "15410",
     "output_type": "error",
     "traceback": [
      "\u001b[0;31m---------------------------------------------------------------------------\u001b[0m",
      "\u001b[0;31mKeyError\u001b[0m                                  Traceback (most recent call last)",
      "Input \u001b[0;32mIn [15]\u001b[0m, in \u001b[0;36m<cell line: 4>\u001b[0;34m()\u001b[0m\n\u001b[1;32m      5\u001b[0m label\u001b[38;5;241m=\u001b[39mrow[\u001b[38;5;124m'\u001b[39m\u001b[38;5;124mrich\u001b[39m\u001b[38;5;124m'\u001b[39m]\u001b[38;5;241m*\u001b[39m\u001b[38;5;241m1\u001b[39m\n\u001b[1;32m      6\u001b[0m data[count,\u001b[38;5;241m-\u001b[39m\u001b[38;5;241m1\u001b[39m]\u001b[38;5;241m=\u001b[39mlabel\n\u001b[0;32m----> 7\u001b[0m data[count,:\u001b[38;5;241m-\u001b[39m\u001b[38;5;241m1\u001b[39m]\u001b[38;5;241m=\u001b[39m\u001b[43mEncoding\u001b[49m\u001b[43m[\u001b[49m\u001b[43mi\u001b[49m\u001b[43m]\u001b[49m\n\u001b[1;32m      8\u001b[0m count\u001b[38;5;241m+\u001b[39m\u001b[38;5;241m=\u001b[39m\u001b[38;5;241m1\u001b[39m\n",
      "\u001b[0;31mKeyError\u001b[0m: 15410"
     ]
    }
   ],
   "source": [
    "data=np.zeros([rows,2**9+1]) #code length +1 for label\n",
    "\n",
    "count=0\n",
    "for i,row in just_label.iterrows():\n",
    "    label=row['rich']*1\n",
    "    data[count,-1]=label\n",
    "    data[count,:-1]=Encoding[i]\n",
    "    count+=1"
   ]
  },
  {
   "cell_type": "code",
   "execution_count": 16,
   "id": "bd0fc36b",
   "metadata": {},
   "outputs": [],
   "source": [
    "import pickle as pkl\n",
    "pkl.dump(data,open('RuralTanzania.pkl','wb'))"
   ]
  },
  {
   "cell_type": "code",
   "execution_count": 17,
   "id": "03e550e8",
   "metadata": {},
   "outputs": [
    {
     "name": "stdout",
     "output_type": "stream",
     "text": [
      "-rw-r--r--  1 yoavfreund  wheel   4.8M May 12 14:42 RuralTanzania.pkl\r\n"
     ]
    }
   ],
   "source": [
    "!ls -lh RuralTanzania.pkl"
   ]
  },
  {
   "cell_type": "code",
   "execution_count": 18,
   "id": "d5d1561c",
   "metadata": {},
   "outputs": [
    {
     "name": "stdout",
     "output_type": "stream",
     "text": [
      "rm: tanzania.pkl: No such file or directory\r\n"
     ]
    }
   ],
   "source": [
    "!rm tanzania.pkl"
   ]
  },
  {
   "cell_type": "code",
   "execution_count": 17,
   "id": "c3b50181",
   "metadata": {},
   "outputs": [
    {
     "data": {
      "text/plain": [
       "'/Users/yoavfreund/projects/Poverty_Analysis/KD-trees'"
      ]
     },
     "execution_count": 17,
     "metadata": {},
     "output_type": "execute_result"
    }
   ],
   "source": [
    "%pwd"
   ]
  },
  {
   "cell_type": "code",
   "execution_count": null,
   "id": "db3fcaac",
   "metadata": {},
   "outputs": [],
   "source": []
  }
 ],
 "metadata": {
  "kernelspec": {
   "display_name": "Python 3 (ipykernel)",
   "language": "python",
   "name": "python3"
  },
  "language_info": {
   "codemirror_mode": {
    "name": "ipython",
    "version": 3
   },
   "file_extension": ".py",
   "mimetype": "text/x-python",
   "name": "python",
   "nbconvert_exporter": "python",
   "pygments_lexer": "ipython3",
   "version": "3.9.12"
  },
  "toc": {
   "base_numbering": 1,
   "nav_menu": {},
   "number_sections": true,
   "sideBar": true,
   "skip_h1_title": false,
   "title_cell": "Table of Contents",
   "title_sidebar": "Contents",
   "toc_cell": false,
   "toc_position": {},
   "toc_section_display": true,
   "toc_window_display": false
  }
 },
 "nbformat": 4,
 "nbformat_minor": 5
}
