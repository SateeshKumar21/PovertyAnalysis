{
 "cells": [
  {
   "cell_type": "markdown",
   "id": "bb759ec1",
   "metadata": {},
   "source": [
    "## Demonstrating KDtrees \n",
    "(loaded from lib/KDTreeEncoding)"
   ]
  },
  {
   "cell_type": "code",
   "execution_count": 1,
   "id": "af8cf8a0",
   "metadata": {},
   "outputs": [
    {
     "data": {
      "text/plain": [
       "'/Users/yoavfreund/projects/Poverty_Analysis/KD-trees'"
      ]
     },
     "execution_count": 1,
     "metadata": {},
     "output_type": "execute_result"
    }
   ],
   "source": [
    "%pwd"
   ]
  },
  {
   "cell_type": "code",
   "execution_count": 2,
   "id": "c0d0b10d",
   "metadata": {
    "scrolled": true,
    "slideshow": {
     "slide_type": "skip"
    }
   },
   "outputs": [
    {
     "name": "stdout",
     "output_type": "stream",
     "text": [
      "%pylab is deprecated, use %matplotlib inline and import the required libraries.\n",
      "Populating the interactive namespace from numpy and matplotlib\n"
     ]
    }
   ],
   "source": [
    "%pylab inline\n",
    "from numpy import load\n",
    "from lib.KDTreeEncoding import *\n",
    "from glob import glob"
   ]
  },
  {
   "cell_type": "code",
   "execution_count": 3,
   "id": "3e7b61ab",
   "metadata": {
    "slideshow": {
     "slide_type": "skip"
    }
   },
   "outputs": [],
   "source": [
    "#Store location of current home directory\n",
    "current=%pwd\n",
    "#current"
   ]
  },
  {
   "cell_type": "code",
   "execution_count": 4,
   "id": "ccdc94fd",
   "metadata": {
    "slideshow": {
     "slide_type": "slide"
    }
   },
   "outputs": [
    {
     "data": {
      "text/plain": [
       "(19669,\n",
       " ['/Users/yoavfreund/datasets/poverty_v1.1/anon_images/image18941.npz',\n",
       "  '/Users/yoavfreund/datasets/poverty_v1.1/anon_images/image19487.npz',\n",
       "  '/Users/yoavfreund/datasets/poverty_v1.1/anon_images/image6978.npz'])"
      ]
     },
     "execution_count": 4,
     "metadata": {},
     "output_type": "execute_result"
    }
   ],
   "source": [
    "## List image files\n",
    "_dir='/Users/yoavfreund/datasets/poverty_v1.1/anon_images/'\n",
    "files=glob(f'{_dir}*.npz')\n",
    "len(files), files[:3]"
   ]
  },
  {
   "cell_type": "markdown",
   "id": "b0daa80a",
   "metadata": {
    "slideshow": {
     "slide_type": "slide"
    }
   },
   "source": [
    "## Train the tree on the files in \"files\""
   ]
  },
  {
   "cell_type": "code",
   "execution_count": 5,
   "id": "2bbaabbc",
   "metadata": {
    "scrolled": true,
    "slideshow": {
     "slide_type": "fragment"
    }
   },
   "outputs": [
    {
     "name": "stdout",
     "output_type": "stream",
     "text": [
      "used 100 images to train KDTree\n",
      "KDTree training data shape= (5017600, 8)\n",
      "CPU times: user 1.42 s, sys: 138 ms, total: 1.56 s\n",
      "Wall time: 1.65 s\n"
     ]
    }
   ],
   "source": [
    "%%time\n",
    "train_size,tree=train_encoder(files[:100],tree_depth=7)"
   ]
  },
  {
   "cell_type": "markdown",
   "id": "677adf3a",
   "metadata": {},
   "source": [
    "## Print out a part of the tree"
   ]
  },
  {
   "cell_type": "code",
   "execution_count": 6,
   "id": "0bdf6d27",
   "metadata": {},
   "outputs": [
    {
     "name": "stdout",
     "output_type": "stream",
     "text": [
      "00: size=1215491 index=6, threshold=   0.09\n",
      "001: size=607773 index=0, threshold=  -0.77\n",
      "000: size=607718 index=7, threshold=  -0.22\n",
      "0011: size=303890 index=3, threshold=  -0.17\n",
      "0010: size=303883 index=4, threshold=  -0.91\n",
      "0001: size=303861 index=0, threshold=  -0.60\n",
      "0000: size=303857 index=6, threshold=  -0.50\n",
      "00111: size=152026 index=6, threshold=   0.43\n",
      "00110: size=151864 index=2, threshold=  -0.63\n",
      "00101: size=152173 index=4, threshold=  -0.67\n",
      "00100: size=151710 index=0, threshold=  -1.13\n",
      "00011: size=151975 index=0, threshold=  -0.36\n",
      "00010: size=151886 index=5, threshold=  -0.18\n",
      "00001: size=151949 index=6, threshold=  -0.24\n",
      "00000: size=151908 index=4, threshold=  -0.42\n"
     ]
    }
   ],
   "source": [
    "tree.print(tree.root.below.below,level=4)"
   ]
  },
  {
   "cell_type": "code",
   "execution_count": 7,
   "id": "d1852d21",
   "metadata": {},
   "outputs": [
    {
     "name": "stdout",
     "output_type": "stream",
     "text": [
      ",filename,country,wealthpooled,urban,label,nl_mean\r\n",
      "1,image7716.npz,21,-1.0900524854660034,False,0,-0.0976840257644653\r\n",
      "4,image603.npz,21,1.4540644884109497,True,1,11.082343101501465\r\n",
      "5,image1199.npz,21,1.70844566822052,True,1,12.646743774414062\r\n",
      "6,image2826.npz,21,1.701109528541565,True,1,5.055367469787598\r\n",
      "7,image6082.npz,21,1.5477131605148315,True,1,12.907397270202637\r\n",
      "8,image13809.npz,21,1.5924626588821411,True,1,13.152287483215332\r\n",
      "9,image9062.npz,21,1.7062891721725464,True,1,13.142542839050291\r\n",
      "11,image5804.npz,21,0.9911735653877258,True,0,6.250482082366943\r\n",
      "12,image15372.npz,21,1.166226148605347,True,0,6.056130409240723\r\n"
     ]
    }
   ],
   "source": [
    "table='../public_tables/train.csv'\n",
    "!head $table"
   ]
  },
  {
   "cell_type": "code",
   "execution_count": 8,
   "id": "61b11274",
   "metadata": {},
   "outputs": [
    {
     "data": {
      "text/plain": [
       "'/Users/yoavfreund/projects/Poverty_Analysis/KD-trees'"
      ]
     },
     "execution_count": 8,
     "metadata": {},
     "output_type": "execute_result"
    }
   ],
   "source": [
    "current"
   ]
  },
  {
   "cell_type": "code",
   "execution_count": 9,
   "id": "f02dc9d6",
   "metadata": {},
   "outputs": [
    {
     "data": {
      "text/html": [
       "<div>\n",
       "<style scoped>\n",
       "    .dataframe tbody tr th:only-of-type {\n",
       "        vertical-align: middle;\n",
       "    }\n",
       "\n",
       "    .dataframe tbody tr th {\n",
       "        vertical-align: top;\n",
       "    }\n",
       "\n",
       "    .dataframe thead th {\n",
       "        text-align: right;\n",
       "    }\n",
       "</style>\n",
       "<table border=\"1\" class=\"dataframe\">\n",
       "  <thead>\n",
       "    <tr style=\"text-align: right;\">\n",
       "      <th></th>\n",
       "      <th>Unnamed: 0</th>\n",
       "      <th>filename</th>\n",
       "      <th>country</th>\n",
       "      <th>wealthpooled</th>\n",
       "      <th>urban</th>\n",
       "      <th>label</th>\n",
       "      <th>nl_mean</th>\n",
       "    </tr>\n",
       "  </thead>\n",
       "  <tbody>\n",
       "    <tr>\n",
       "      <th>0</th>\n",
       "      <td>1</td>\n",
       "      <td>image7716.npz</td>\n",
       "      <td>21</td>\n",
       "      <td>-1.090052</td>\n",
       "      <td>False</td>\n",
       "      <td>0</td>\n",
       "      <td>-0.097684</td>\n",
       "    </tr>\n",
       "    <tr>\n",
       "      <th>1</th>\n",
       "      <td>4</td>\n",
       "      <td>image603.npz</td>\n",
       "      <td>21</td>\n",
       "      <td>1.454064</td>\n",
       "      <td>True</td>\n",
       "      <td>1</td>\n",
       "      <td>11.082343</td>\n",
       "    </tr>\n",
       "    <tr>\n",
       "      <th>2</th>\n",
       "      <td>5</td>\n",
       "      <td>image1199.npz</td>\n",
       "      <td>21</td>\n",
       "      <td>1.708446</td>\n",
       "      <td>True</td>\n",
       "      <td>1</td>\n",
       "      <td>12.646744</td>\n",
       "    </tr>\n",
       "    <tr>\n",
       "      <th>3</th>\n",
       "      <td>6</td>\n",
       "      <td>image2826.npz</td>\n",
       "      <td>21</td>\n",
       "      <td>1.701110</td>\n",
       "      <td>True</td>\n",
       "      <td>1</td>\n",
       "      <td>5.055367</td>\n",
       "    </tr>\n",
       "    <tr>\n",
       "      <th>4</th>\n",
       "      <td>7</td>\n",
       "      <td>image6082.npz</td>\n",
       "      <td>21</td>\n",
       "      <td>1.547713</td>\n",
       "      <td>True</td>\n",
       "      <td>1</td>\n",
       "      <td>12.907397</td>\n",
       "    </tr>\n",
       "    <tr>\n",
       "      <th>...</th>\n",
       "      <td>...</td>\n",
       "      <td>...</td>\n",
       "      <td>...</td>\n",
       "      <td>...</td>\n",
       "      <td>...</td>\n",
       "      <td>...</td>\n",
       "      <td>...</td>\n",
       "    </tr>\n",
       "    <tr>\n",
       "      <th>10905</th>\n",
       "      <td>19664</td>\n",
       "      <td>image9030.npz</td>\n",
       "      <td>5</td>\n",
       "      <td>1.159348</td>\n",
       "      <td>True</td>\n",
       "      <td>0</td>\n",
       "      <td>1.005626</td>\n",
       "    </tr>\n",
       "    <tr>\n",
       "      <th>10906</th>\n",
       "      <td>19665</td>\n",
       "      <td>image11611.npz</td>\n",
       "      <td>5</td>\n",
       "      <td>1.268232</td>\n",
       "      <td>True</td>\n",
       "      <td>0</td>\n",
       "      <td>0.895127</td>\n",
       "    </tr>\n",
       "    <tr>\n",
       "      <th>10907</th>\n",
       "      <td>19666</td>\n",
       "      <td>image12646.npz</td>\n",
       "      <td>5</td>\n",
       "      <td>1.506693</td>\n",
       "      <td>True</td>\n",
       "      <td>1</td>\n",
       "      <td>1.183905</td>\n",
       "    </tr>\n",
       "    <tr>\n",
       "      <th>10908</th>\n",
       "      <td>19667</td>\n",
       "      <td>image17629.npz</td>\n",
       "      <td>5</td>\n",
       "      <td>1.882921</td>\n",
       "      <td>True</td>\n",
       "      <td>1</td>\n",
       "      <td>0.515834</td>\n",
       "    </tr>\n",
       "    <tr>\n",
       "      <th>10909</th>\n",
       "      <td>19668</td>\n",
       "      <td>image4199.npz</td>\n",
       "      <td>5</td>\n",
       "      <td>1.880099</td>\n",
       "      <td>True</td>\n",
       "      <td>1</td>\n",
       "      <td>0.844067</td>\n",
       "    </tr>\n",
       "  </tbody>\n",
       "</table>\n",
       "<p>10910 rows × 7 columns</p>\n",
       "</div>"
      ],
      "text/plain": [
       "       Unnamed: 0        filename  country  wealthpooled  urban  label  \\\n",
       "0               1   image7716.npz       21     -1.090052  False      0   \n",
       "1               4    image603.npz       21      1.454064   True      1   \n",
       "2               5   image1199.npz       21      1.708446   True      1   \n",
       "3               6   image2826.npz       21      1.701110   True      1   \n",
       "4               7   image6082.npz       21      1.547713   True      1   \n",
       "...           ...             ...      ...           ...    ...    ...   \n",
       "10905       19664   image9030.npz        5      1.159348   True      0   \n",
       "10906       19665  image11611.npz        5      1.268232   True      0   \n",
       "10907       19666  image12646.npz        5      1.506693   True      1   \n",
       "10908       19667  image17629.npz        5      1.882921   True      1   \n",
       "10909       19668   image4199.npz        5      1.880099   True      1   \n",
       "\n",
       "         nl_mean  \n",
       "0      -0.097684  \n",
       "1      11.082343  \n",
       "2      12.646744  \n",
       "3       5.055367  \n",
       "4      12.907397  \n",
       "...          ...  \n",
       "10905   1.005626  \n",
       "10906   0.895127  \n",
       "10907   1.183905  \n",
       "10908   0.515834  \n",
       "10909   0.844067  \n",
       "\n",
       "[10910 rows x 7 columns]"
      ]
     },
     "execution_count": 9,
     "metadata": {},
     "output_type": "execute_result"
    }
   ],
   "source": [
    "import pandas as pd\n",
    "\n",
    "T=pd.read_csv(f'{current}/{table}')\n",
    "T"
   ]
  },
  {
   "cell_type": "code",
   "execution_count": 10,
   "id": "e18e3092",
   "metadata": {},
   "outputs": [
    {
     "data": {
      "text/html": [
       "<div>\n",
       "<style scoped>\n",
       "    .dataframe tbody tr th:only-of-type {\n",
       "        vertical-align: middle;\n",
       "    }\n",
       "\n",
       "    .dataframe tbody tr th {\n",
       "        vertical-align: top;\n",
       "    }\n",
       "\n",
       "    .dataframe thead th {\n",
       "        text-align: right;\n",
       "    }\n",
       "</style>\n",
       "<table border=\"1\" class=\"dataframe\">\n",
       "  <thead>\n",
       "    <tr style=\"text-align: right;\">\n",
       "      <th></th>\n",
       "      <th>Unnamed: 0</th>\n",
       "      <th>filename</th>\n",
       "      <th>country</th>\n",
       "      <th>wealthpooled</th>\n",
       "      <th>urban</th>\n",
       "      <th>label</th>\n",
       "      <th>nl_mean</th>\n",
       "    </tr>\n",
       "  </thead>\n",
       "  <tbody>\n",
       "    <tr>\n",
       "      <th>10327</th>\n",
       "      <td>18876</td>\n",
       "      <td>image1149.npz</td>\n",
       "      <td>5</td>\n",
       "      <td>-0.467258</td>\n",
       "      <td>False</td>\n",
       "      <td>1</td>\n",
       "      <td>-0.173862</td>\n",
       "    </tr>\n",
       "    <tr>\n",
       "      <th>10328</th>\n",
       "      <td>18877</td>\n",
       "      <td>image6388.npz</td>\n",
       "      <td>5</td>\n",
       "      <td>-0.714008</td>\n",
       "      <td>False</td>\n",
       "      <td>0</td>\n",
       "      <td>-0.173862</td>\n",
       "    </tr>\n",
       "  </tbody>\n",
       "</table>\n",
       "</div>"
      ],
      "text/plain": [
       "       Unnamed: 0       filename  country  wealthpooled  urban  label  \\\n",
       "10327       18876  image1149.npz        5     -0.467258  False      1   \n",
       "10328       18877  image6388.npz        5     -0.714008  False      0   \n",
       "\n",
       "        nl_mean  \n",
       "10327 -0.173862  \n",
       "10328 -0.173862  "
      ]
     },
     "execution_count": 10,
     "metadata": {},
     "output_type": "execute_result"
    }
   ],
   "source": [
    "rural_5=pd.DataFrame(T[(T['country']==5) & (T['urban']==False)])\n",
    "rural_5.head(2)"
   ]
  },
  {
   "cell_type": "code",
   "execution_count": 11,
   "id": "7304b37a",
   "metadata": {
    "scrolled": true
   },
   "outputs": [
    {
     "data": {
      "text/html": [
       "<div>\n",
       "<style scoped>\n",
       "    .dataframe tbody tr th:only-of-type {\n",
       "        vertical-align: middle;\n",
       "    }\n",
       "\n",
       "    .dataframe tbody tr th {\n",
       "        vertical-align: top;\n",
       "    }\n",
       "\n",
       "    .dataframe thead th {\n",
       "        text-align: right;\n",
       "    }\n",
       "</style>\n",
       "<table border=\"1\" class=\"dataframe\">\n",
       "  <thead>\n",
       "    <tr style=\"text-align: right;\">\n",
       "      <th></th>\n",
       "      <th>Unnamed: 0</th>\n",
       "      <th>filename</th>\n",
       "      <th>country</th>\n",
       "      <th>wealthpooled</th>\n",
       "      <th>urban</th>\n",
       "      <th>label</th>\n",
       "      <th>nl_mean</th>\n",
       "      <th>rich</th>\n",
       "    </tr>\n",
       "    <tr>\n",
       "      <th>filename</th>\n",
       "      <th></th>\n",
       "      <th></th>\n",
       "      <th></th>\n",
       "      <th></th>\n",
       "      <th></th>\n",
       "      <th></th>\n",
       "      <th></th>\n",
       "      <th></th>\n",
       "    </tr>\n",
       "  </thead>\n",
       "  <tbody>\n",
       "    <tr>\n",
       "      <th>image1149.npz</th>\n",
       "      <td>18876</td>\n",
       "      <td>image1149.npz</td>\n",
       "      <td>5</td>\n",
       "      <td>-0.467258</td>\n",
       "      <td>False</td>\n",
       "      <td>1</td>\n",
       "      <td>-0.173862</td>\n",
       "      <td>True</td>\n",
       "    </tr>\n",
       "    <tr>\n",
       "      <th>image6388.npz</th>\n",
       "      <td>18877</td>\n",
       "      <td>image6388.npz</td>\n",
       "      <td>5</td>\n",
       "      <td>-0.714008</td>\n",
       "      <td>False</td>\n",
       "      <td>0</td>\n",
       "      <td>-0.173862</td>\n",
       "      <td>False</td>\n",
       "    </tr>\n",
       "    <tr>\n",
       "      <th>image15364.npz</th>\n",
       "      <td>18889</td>\n",
       "      <td>image15364.npz</td>\n",
       "      <td>5</td>\n",
       "      <td>-0.628777</td>\n",
       "      <td>False</td>\n",
       "      <td>0</td>\n",
       "      <td>-0.173862</td>\n",
       "      <td>False</td>\n",
       "    </tr>\n",
       "    <tr>\n",
       "      <th>image10130.npz</th>\n",
       "      <td>18908</td>\n",
       "      <td>image10130.npz</td>\n",
       "      <td>5</td>\n",
       "      <td>0.937543</td>\n",
       "      <td>False</td>\n",
       "      <td>1</td>\n",
       "      <td>0.029008</td>\n",
       "      <td>True</td>\n",
       "    </tr>\n",
       "    <tr>\n",
       "      <th>image3478.npz</th>\n",
       "      <td>18911</td>\n",
       "      <td>image3478.npz</td>\n",
       "      <td>5</td>\n",
       "      <td>-0.117946</td>\n",
       "      <td>False</td>\n",
       "      <td>1</td>\n",
       "      <td>-0.172251</td>\n",
       "      <td>True</td>\n",
       "    </tr>\n",
       "  </tbody>\n",
       "</table>\n",
       "</div>"
      ],
      "text/plain": [
       "                Unnamed: 0        filename  country  wealthpooled  urban  \\\n",
       "filename                                                                   \n",
       "image1149.npz        18876   image1149.npz        5     -0.467258  False   \n",
       "image6388.npz        18877   image6388.npz        5     -0.714008  False   \n",
       "image15364.npz       18889  image15364.npz        5     -0.628777  False   \n",
       "image10130.npz       18908  image10130.npz        5      0.937543  False   \n",
       "image3478.npz        18911   image3478.npz        5     -0.117946  False   \n",
       "\n",
       "                label   nl_mean   rich  \n",
       "filename                                \n",
       "image1149.npz       1 -0.173862   True  \n",
       "image6388.npz       0 -0.173862  False  \n",
       "image15364.npz      0 -0.173862  False  \n",
       "image10130.npz      1  0.029008   True  \n",
       "image3478.npz       1 -0.172251   True  "
      ]
     },
     "execution_count": 11,
     "metadata": {},
     "output_type": "execute_result"
    }
   ],
   "source": [
    "rural_5['rich']=rural_5['wealthpooled']>-0.5\n",
    "rural_5.index=rural_5.filename\n",
    "rural_5.head()"
   ]
  },
  {
   "cell_type": "code",
   "execution_count": 12,
   "id": "b83285cd",
   "metadata": {},
   "outputs": [
    {
     "data": {
      "text/plain": [
       "((342, 8), '/Users/yoavfreund/datasets/poverty_v1.1/anon_images/')"
      ]
     },
     "execution_count": 12,
     "metadata": {},
     "output_type": "execute_result"
    }
   ],
   "source": [
    "rural_5.shape,_dir"
   ]
  },
  {
   "cell_type": "code",
   "execution_count": 13,
   "id": "2ab5da61",
   "metadata": {},
   "outputs": [
    {
     "name": "stdout",
     "output_type": "stream",
     "text": [
      "CPU times: user 3.73 s, sys: 470 ms, total: 4.2 s\n",
      "Wall time: 4.5 s\n"
     ]
    }
   ],
   "source": [
    "%%time\n",
    "EC=encoded_dataset(_dir[:-1],rural_5,tree)"
   ]
  },
  {
   "cell_type": "code",
   "execution_count": 14,
   "id": "12de12b0",
   "metadata": {},
   "outputs": [
    {
     "data": {
      "text/plain": [
       "(342, 513)"
      ]
     },
     "execution_count": 14,
     "metadata": {},
     "output_type": "execute_result"
    }
   ],
   "source": [
    "EC.data.shape"
   ]
  },
  {
   "cell_type": "markdown",
   "id": "8f5d6b7c",
   "metadata": {},
   "source": [
    "## the encoding an image\n",
    "Is a binary tree represented as key value pairs where the key is the path to the node and the value is the log ratio between the number of +'s and the number of -'s."
   ]
  },
  {
   "cell_type": "code",
   "execution_count": 15,
   "id": "abbb141e",
   "metadata": {},
   "outputs": [
    {
     "data": {
      "text/plain": [
       "[('', 0.0),\n",
       " ('1', 0.37188955736508245),\n",
       " ('11', -0.941323134112017),\n",
       " ('111', -3.5834675471865407),\n",
       " ('1111', -13.355853415684358),\n",
       " ('1110', -2.890104905658549),\n",
       " ('11101', -6.268021571623163),\n",
       " ('11100', -2.2133173372545887),\n",
       " ('111001', -5.286211349772571),\n",
       " ('111000', -1.5433000509412007),\n",
       " ('1110001', -11.277996523037412),\n",
       " ('1110000', -0.8470441836736723),\n",
       " ('11100001', -1.602212422437765),\n",
       " ('11100000', -0.41655280345653184),\n",
       " ('110', -0.2843565915933632),\n",
       " ('1101', 0.12396935816284474),\n",
       " ('11011', -0.03942246334540363),\n",
       " ('110111', -3.9031794493170913),\n",
       " ('110110', 0.6438741443754606),\n",
       " ('1101101', -3.4212298562104304),\n",
       " ('1101100', 1.3334196814343142),\n",
       " ('11011001', 1.1210592014041916),\n",
       " ('11011000', 1.5163410760311724),\n",
       " ('11010', 0.2645229106037751),\n",
       " ('110101', -2.6316304336364946),\n",
       " ('110100', 0.930166418131718),\n",
       " ('1101001', 1.2192290512115884),\n",
       " ('11010011', 1.7546194393987349),\n",
       " ('11010010', -0.014559779403770805),\n",
       " ('1101000', 0.5213107351624641),\n",
       " ('11010001', 0.27939401368451894),\n",
       " ('11010000', 0.7954279195622633),\n",
       " ('1100', -0.9869897575625597),\n",
       " ('11001', -0.5869009113536396),\n",
       " ('110011', -3.9033307228480885),\n",
       " ('110010', 0.08932986445364478),\n",
       " ('1100101', 0.5279812373460051),\n",
       " ('11001011', -0.39142469339203784),\n",
       " ('11001010', 0.9999903225525452),\n",
       " ('1100100', -0.7118495286050921),\n",
       " ('11001001', -4.186442103162882),\n",
       " ('11001000', -0.034172883370012716),\n",
       " ('11000', -1.6658109592294326),\n",
       " ('110001', -11.970279946578206),\n",
       " ('110000', -0.9703123257471997),\n",
       " ('1100001', -0.9422026749935575),\n",
       " ('11000011', -10.778500363798903),\n",
       " ('11000010', -0.2455582760227548),\n",
       " ('1100000', -1.0155255538859522),\n",
       " ('11000001', -0.44628501852985564),\n",
       " ('11000000', -2.4750854695636555),\n",
       " ('10', 0.9291869128422282),\n",
       " ('101', -1.3479324381249715),\n",
       " ('1011', -0.6805169298973579),\n",
       " ('10111', -0.15367383933838616),\n",
       " ('101111', -0.3473324225002258),\n",
       " ('1011111', -0.0706911264267284),\n",
       " ('10111111', 0.10099515031892485),\n",
       " ('10111110', -0.2791683012167695),\n",
       " ('1011110', -0.7319939676150279),\n",
       " ('10111101', -4.1712536165264025),\n",
       " ('10111100', -0.053487830807246825),\n",
       " ('101110', 0.009185219104717307),\n",
       " ('1011101', -1.711445704883608),\n",
       " ('1011100', 0.6090273454711126),\n",
       " ('10111001', -2.158120063500714),\n",
       " ('10111000', 1.2980355177358425),\n",
       " ('10110', -1.8632967042076565),\n",
       " ('101101', -3.0442130984928992),\n",
       " ('101100', -1.3365297243019227),\n",
       " ('1011001', -3.563259557465419),\n",
       " ('1011000', -0.6987401277132008),\n",
       " ('10110001', -0.5962446126775691),\n",
       " ('10110000', -0.8131175033890798),\n",
       " ('1010', -4.32756558307467),\n",
       " ('100', 1.5703267938461238),\n",
       " ('1001', 1.5395486553273798),\n",
       " ('10011', 2.0993834541594665),\n",
       " ('100111', 1.3257955235298615),\n",
       " ('1001111', 0.3436886971069694),\n",
       " ('10011111', 0.7864965537653111),\n",
       " ('10011110', -0.4708075221418721),\n",
       " ('1001110', 1.8124899578571867),\n",
       " ('10011101', 1.9380020136789458),\n",
       " ('10011100', 1.6688364899755788),\n",
       " ('100110', 2.5305962572823226),\n",
       " ('1001101', 1.8083036557647423),\n",
       " ('10011011', 1.108185652072871),\n",
       " ('10011010', 2.2187706873846005),\n",
       " ('1001100', 2.9456787492491623),\n",
       " ('10011001', 2.3632286001069387),\n",
       " ('10011000', 3.3127111596338112),\n",
       " ('10010', 0.14669931663218674),\n",
       " ('100101', 0.5430672838541445),\n",
       " ('1001011', -0.8332484327760193),\n",
       " ('10010111', -1.521963160046502),\n",
       " ('10010110', -0.4282622142283068),\n",
       " ('1001010', 1.1098719444384917),\n",
       " ('10010101', 1.4654990314700065),\n",
       " ('10010100', 0.5525698400100127),\n",
       " ('100100', -0.5199971443347089),\n",
       " ('1001001', -4.583675643634348),\n",
       " ('1001000', 0.17114040601761343),\n",
       " ('10010001', 0.7083639136119096),\n",
       " ('10010000', -1.074383372889339),\n",
       " ('1000', 1.6004895746228214),\n",
       " ('10001', 1.3512163689677916),\n",
       " ('100011', 1.9021076035551496),\n",
       " ('1000111', 2.404395935320674),\n",
       " ('10001111', 2.126600446862279),\n",
       " ('10001110', 2.622347755074474),\n",
       " ('1000110', 0.8317916489318412),\n",
       " ('10001101', 0.46272306876317143),\n",
       " ('10001100', 1.1215768848176801),\n",
       " ('100010', 0.012825402758896386),\n",
       " ('1000101', -2.69696658313936),\n",
       " ('1000100', 0.7516820535091003),\n",
       " ('10001001', 0.22493320842449327),\n",
       " ('10001000', 1.0974220158038954),\n",
       " ('10000', 1.7998675533630302),\n",
       " ('100001', 1.5423878694663546),\n",
       " ('1000011', -0.0819115346846887),\n",
       " ('10000111', 0.5167244123489989),\n",
       " ('10000110', -1.7997516149945119),\n",
       " ('1000010', 2.136957232713872),\n",
       " ('10000101', 2.4456093909871925),\n",
       " ('10000100', 1.678122527342794),\n",
       " ('100000', 2.2551257762011137),\n",
       " ('1000001', 2.6570347816780253),\n",
       " ('10000011', 2.5565323806526923),\n",
       " ('10000010', 2.7511562641176157),\n",
       " ('1000000', 1.5717217059133832),\n",
       " ('10000001', 1.6308662685570143),\n",
       " ('10000000', 1.5084605456893154),\n",
       " ('0', -0.5987211475486032),\n",
       " ('01', -1.3667464361765003),\n",
       " ('011', -0.7916934995946943),\n",
       " ('0111', -3.3560244711688103),\n",
       " ('01111', -2.6632089886516783),\n",
       " ('011111', -2.327998100729012),\n",
       " ('011110', -3.170976694973151),\n",
       " ('01110', -12.684784348930757),\n",
       " ('0110', -0.13572214410226285),\n",
       " ('01101', 0.3518469808375209),\n",
       " ('011011', -0.5484548201130899),\n",
       " ('0110111', -0.01291606821551008),\n",
       " ('01101111', -0.38717896691232384),\n",
       " ('01101110', 0.258803743059147),\n",
       " ('0110110', -1.7907805879984422),\n",
       " ('011010', 0.838637592144243),\n",
       " ('0110101', 1.3018115293591181),\n",
       " ('01101011', 1.3462909080173375),\n",
       " ('01101010', 1.2552223672252338),\n",
       " ('0110100', -0.05454872491810199),\n",
       " ('01101001', -0.5600556551427405),\n",
       " ('01101000', 0.2801878251629482),\n",
       " ('01100', -1.1262135328455103),\n",
       " ('011001', -0.8638803029272119),\n",
       " ('0110011', -1.9998274036568677),\n",
       " ('0110010', -0.3443750662750182),\n",
       " ('01100101', -1.5044843717727396),\n",
       " ('01100100', 0.17873713931651342),\n",
       " ('011000', -1.4880538117477262),\n",
       " ('0110001', -0.7956735984303632),\n",
       " ('01100011', -0.17908724435492648),\n",
       " ('01100010', -2.733706939573393),\n",
       " ('0110000', -11.28747990381846),\n",
       " ('010', -2.8689103760995733),\n",
       " ('0101', -2.1952349292244246),\n",
       " ('01011', -1.71675759265126),\n",
       " ('010111', -2.354915104078028),\n",
       " ('010110', -1.247309170950975),\n",
       " ('0101101', -1.247309170950975),\n",
       " ('01011011', -0.9646938505541334),\n",
       " ('01011010', -1.6428420693827759),\n",
       " ('0101100', 0.0),\n",
       " ('01010', -3.152133633895054),\n",
       " ('0100', -6.134299346722789),\n",
       " ('00', -0.1474060488374502),\n",
       " ('001', -1.3402661934810742),\n",
       " ('0011', -1.144015267202535),\n",
       " ('00111', -0.6445250671773562),\n",
       " ('001111', -3.0793981787316764),\n",
       " ('001110', 0.0051639974804343),\n",
       " ('0011101', -0.7013014110358846),\n",
       " ('00111011', -0.7290944350787363),\n",
       " ('00111010', -0.6741806693836069),\n",
       " ('0011100', 0.41781003531458455),\n",
       " ('00111001', -0.851433536608067),\n",
       " ('00111000', 0.9630937366228779),\n",
       " ('00110', -2.1897458285768665),\n",
       " ('001101', -1.5300297490216355),\n",
       " ('0011011', -1.2039074805207133),\n",
       " ('00110111', -1.4375860052513039),\n",
       " ('00110110', -1.0108693096895056),\n",
       " ('0011010', -2.0246870421228795),\n",
       " ('001100', -5.018400414706146),\n",
       " ('0010', -1.584674930371184),\n",
       " ('00101', -0.9474753805483661),\n",
       " ('001011', -0.6408630996673739),\n",
       " ('0010111', -0.7894657003304452),\n",
       " ('00101111', -0.5052275574463795),\n",
       " ('00101110', -1.1885714367982052),\n",
       " ('0010110', -0.5112377795704888),\n",
       " ('00101101', -1.584517380320219),\n",
       " ('00101100', -0.004961086373683635),\n",
       " ('001010', -1.392314334311701),\n",
       " ('0010101', -1.8466505964516524),\n",
       " ('0010100', -1.0809645283657092),\n",
       " ('00101001', -3.640077124478719),\n",
       " ('00101000', -0.42451553629904415),\n",
       " ('00100', -3.82789960571818),\n",
       " ('000', 0.38128549804713907),\n",
       " ('0001', 0.8179440356616826),\n",
       " ('00011', 0.25847119898340565),\n",
       " ('000111', -1.1420487192909394),\n",
       " ('0001111', -0.5008448341589489),\n",
       " ('00011111', -0.13934389316076637),\n",
       " ('00011110', -1.079718230391796),\n",
       " ('0001110', -3.4631410560136593),\n",
       " ('000110', 0.8289358874631814),\n",
       " ('0001101', 1.1633607573424405),\n",
       " ('00011011', -0.261772569972896),\n",
       " ('00011010', 1.7290816727619223),\n",
       " ('0001100', 0.32136695461378484),\n",
       " ('00011001', 0.9828864013996468),\n",
       " ('00011000', -2.462342258223689),\n",
       " ('00010', 1.174736251896608),\n",
       " ('000101', -0.7824356989657524),\n",
       " ('0001011', -0.29090776185585554),\n",
       " ('00010111', -0.2806283552151979),\n",
       " ('00010110', -0.301286156918167),\n",
       " ('0001010', -1.8155709870730676),\n",
       " ('000100', 1.8045955183460063),\n",
       " ('0001001', 2.1729424849893415),\n",
       " ('00010011', 2.608577088169127),\n",
       " ('00010010', 1.383292155301769),\n",
       " ('0001000', 1.2130910428930197),\n",
       " ('00010001', 0.3290288596995118),\n",
       " ('00010000', 1.6758078610792628),\n",
       " ('0000', -0.4117600220600333),\n",
       " ('00001', 0.08904479706143162),\n",
       " ('000011', 0.36147691969556295),\n",
       " ('0000111', -0.8005945805387596),\n",
       " ('00001111', -0.21248335935714535),\n",
       " ('00001110', -2.415329854096706),\n",
       " ('0000110', 0.8861966433071531),\n",
       " ('00001101', 1.3060389725342567),\n",
       " ('00001100', 0.14860182288154888),\n",
       " ('000010', -0.2869559303518962),\n",
       " ('0000101', -1.3291110676007252),\n",
       " ('00001011', -0.857369674524341),\n",
       " ('00001010', -2.2544300301202633),\n",
       " ('0000100', 0.21599704106831366),\n",
       " ('00001001', 0.745111037420813),\n",
       " ('00001000', -1.0023958055230837),\n",
       " ('00000', -1.4622180404411727),\n",
       " ('000001', -1.5575144182165537),\n",
       " ('0000011', -2.385008781083736),\n",
       " ('0000010', -1.1103031179354066),\n",
       " ('00000101', -1.4402238628821271),\n",
       " ('00000100', -0.8619566979670316),\n",
       " ('000000', -1.3751980879390209),\n",
       " ('0000001', -2.355920711915247),\n",
       " ('0000000', -0.8896908476021075),\n",
       " ('00000001', -0.2165797646069019),\n",
       " ('00000000', -4.145555827769054)]"
      ]
     },
     "execution_count": 15,
     "metadata": {},
     "output_type": "execute_result"
    }
   ],
   "source": [
    "EC.codes[0]"
   ]
  },
  {
   "cell_type": "markdown",
   "id": "5bf91d4a",
   "metadata": {},
   "source": [
    "## The tree encodes each images into a fixed length array"
   ]
  },
  {
   "cell_type": "code",
   "execution_count": 16,
   "id": "55a02799",
   "metadata": {},
   "outputs": [
    {
     "data": {
      "text/plain": [
       "(342, 513)"
      ]
     },
     "execution_count": 16,
     "metadata": {},
     "output_type": "execute_result"
    }
   ],
   "source": [
    "EC.data.shape"
   ]
  }
 ],
 "metadata": {
  "celltoolbar": "Slideshow",
  "kernelspec": {
   "display_name": "Python 3 (ipykernel)",
   "language": "python",
   "name": "python3"
  },
  "language_info": {
   "codemirror_mode": {
    "name": "ipython",
    "version": 3
   },
   "file_extension": ".py",
   "mimetype": "text/x-python",
   "name": "python",
   "nbconvert_exporter": "python",
   "pygments_lexer": "ipython3",
   "version": "3.9.12"
  },
  "toc": {
   "base_numbering": 1,
   "nav_menu": {},
   "number_sections": true,
   "sideBar": true,
   "skip_h1_title": false,
   "title_cell": "Table of Contents",
   "title_sidebar": "Contents",
   "toc_cell": false,
   "toc_position": {},
   "toc_section_display": true,
   "toc_window_display": false
  }
 },
 "nbformat": 4,
 "nbformat_minor": 5
}
