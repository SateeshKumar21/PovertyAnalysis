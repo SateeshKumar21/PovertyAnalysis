{
 "cells": [
  {
   "cell_type": "code",
   "execution_count": 11,
   "id": "23a64271",
   "metadata": {},
   "outputs": [
    {
     "name": "stdout",
     "output_type": "stream",
     "text": [
      "%pylab is deprecated, use %matplotlib inline and import the required libraries.\n",
      "Populating the interactive namespace from numpy and matplotlib\n"
     ]
    }
   ],
   "source": [
    "import pandas as pd\n",
    "%pylab inline"
   ]
  },
  {
   "attachments": {},
   "cell_type": "markdown",
   "id": "0018d916",
   "metadata": {},
   "source": [
    "## load training data"
   ]
  },
  {
   "cell_type": "code",
   "execution_count": 12,
   "id": "c4fc8d5a",
   "metadata": {
    "scrolled": false
   },
   "outputs": [
    {
     "data": {
      "text/html": [
       "<div>\n",
       "<style scoped>\n",
       "    .dataframe tbody tr th:only-of-type {\n",
       "        vertical-align: middle;\n",
       "    }\n",
       "\n",
       "    .dataframe tbody tr th {\n",
       "        vertical-align: top;\n",
       "    }\n",
       "\n",
       "    .dataframe thead th {\n",
       "        text-align: right;\n",
       "    }\n",
       "</style>\n",
       "<table border=\"1\" class=\"dataframe\">\n",
       "  <thead>\n",
       "    <tr style=\"text-align: right;\">\n",
       "      <th></th>\n",
       "      <th>filename</th>\n",
       "      <th>country</th>\n",
       "      <th>wealthpooled</th>\n",
       "      <th>urban</th>\n",
       "      <th>label</th>\n",
       "      <th>nl_mean</th>\n",
       "    </tr>\n",
       "  </thead>\n",
       "  <tbody>\n",
       "    <tr>\n",
       "      <th>1</th>\n",
       "      <td>image7716.npz</td>\n",
       "      <td>21</td>\n",
       "      <td>-1.090052</td>\n",
       "      <td>False</td>\n",
       "      <td>0</td>\n",
       "      <td>-0.097684</td>\n",
       "    </tr>\n",
       "    <tr>\n",
       "      <th>4</th>\n",
       "      <td>image603.npz</td>\n",
       "      <td>21</td>\n",
       "      <td>1.454064</td>\n",
       "      <td>True</td>\n",
       "      <td>1</td>\n",
       "      <td>11.082343</td>\n",
       "    </tr>\n",
       "    <tr>\n",
       "      <th>5</th>\n",
       "      <td>image1199.npz</td>\n",
       "      <td>21</td>\n",
       "      <td>1.708446</td>\n",
       "      <td>True</td>\n",
       "      <td>1</td>\n",
       "      <td>12.646744</td>\n",
       "    </tr>\n",
       "    <tr>\n",
       "      <th>6</th>\n",
       "      <td>image2826.npz</td>\n",
       "      <td>21</td>\n",
       "      <td>1.701110</td>\n",
       "      <td>True</td>\n",
       "      <td>1</td>\n",
       "      <td>5.055367</td>\n",
       "    </tr>\n",
       "    <tr>\n",
       "      <th>7</th>\n",
       "      <td>image6082.npz</td>\n",
       "      <td>21</td>\n",
       "      <td>1.547713</td>\n",
       "      <td>True</td>\n",
       "      <td>1</td>\n",
       "      <td>12.907397</td>\n",
       "    </tr>\n",
       "  </tbody>\n",
       "</table>\n",
       "</div>"
      ],
      "text/plain": [
       "        filename  country  wealthpooled  urban  label    nl_mean\n",
       "1  image7716.npz       21     -1.090052  False      0  -0.097684\n",
       "4   image603.npz       21      1.454064   True      1  11.082343\n",
       "5  image1199.npz       21      1.708446   True      1  12.646744\n",
       "6  image2826.npz       21      1.701110   True      1   5.055367\n",
       "7  image6082.npz       21      1.547713   True      1  12.907397"
      ]
     },
     "execution_count": 12,
     "metadata": {},
     "output_type": "execute_result"
    }
   ],
   "source": [
    "import yaml\n",
    "Yaml=yaml.safe_load(open('../config.yaml','r'))\n",
    "path=\"../../\"+Yaml['path']\n",
    "df=pd.read_csv(path + 'train.csv',index_col=0)\n",
    "df.head()"
   ]
  },
  {
   "cell_type": "code",
   "execution_count": 13,
   "id": "6bee3f0f",
   "metadata": {},
   "outputs": [
    {
     "data": {
      "text/plain": [
       "((10910, 6), (3946, 6))"
      ]
     },
     "execution_count": 13,
     "metadata": {},
     "output_type": "execute_result"
    }
   ],
   "source": [
    "urban_df=df[df['urban']==True]\n",
    "df.shape,urban_df.shape"
   ]
  },
  {
   "cell_type": "code",
   "execution_count": 19,
   "id": "c81adc4b",
   "metadata": {},
   "outputs": [
    {
     "data": {
      "image/png": "[encoded data removed]",
      "text/plain": [
       "<Figure size 432x288 with 1 Axes>"
      ]
     },
     "metadata": {
      "needs_background": "light"
     },
     "output_type": "display_data"
    }
   ],
   "source": [
    "hist(df['wealthpooled'],bins=100,density=True);\n",
    "title('Wealth Overall');\n",
    "grid()\n"
   ]
  },
  {
   "cell_type": "code",
   "execution_count": 21,
   "id": "b22dedfa",
   "metadata": {
    "scrolled": false
   },
   "outputs": [
    {
     "data": {
      "image/png": "[encoded data removed]",
      "text/plain": [
       "<Figure size 432x288 with 1 Axes>"
      ]
     },
     "metadata": {
      "needs_background": "light"
     },
     "output_type": "display_data"
    }
   ],
   "source": [
    "hist(urban_df['wealthpooled'],bins=100,density=True);\n",
    "title('Wealth for Urban');\n",
    "plot([1.2,1.2],[0,1])\n",
    "\n",
    "grid()"
   ]
  },
  {
   "attachments": {},
   "cell_type": "markdown",
   "id": "91ef9125",
   "metadata": {},
   "source": [
    "Threshold for urban is 1.2"
   ]
  },
  {
   "cell_type": "code",
   "execution_count": 22,
   "id": "2da422d6",
   "metadata": {
    "scrolled": false
   },
   "outputs": [
    {
     "data": {
      "image/png": "[encoded data removed]",
      "text/plain": [
       "<Figure size 432x288 with 1 Axes>"
      ]
     },
     "metadata": {
      "needs_background": "light"
     },
     "output_type": "display_data"
    }
   ],
   "source": [
    "rural_df=df[df['urban']==False]\n",
    "hist(rural_df['wealthpooled'],bins=100,density=True);\n",
    "title('Wealth for Rural');\n",
    "plot([-0.5,-0.5],[0,1])\n",
    "grid()\n"
   ]
  },
  {
   "attachments": {},
   "cell_type": "markdown",
   "id": "caa59d3b",
   "metadata": {},
   "source": [
    "threshold for rural is -0.5"
   ]
  },
  {
   "attachments": {},
   "cell_type": "markdown",
   "id": "a898976c",
   "metadata": {},
   "source": [
    "## counts\n",
    "Number of images from each of 18 (anonymized) countries in training set."
   ]
  },
  {
   "cell_type": "code",
   "execution_count": 10,
   "id": "bf6ac722",
   "metadata": {},
   "outputs": [
    {
     "data": {
      "text/plain": [
       "Counter({21: 657,\n",
       "         15: 552,\n",
       "         16: 433,\n",
       "         17: 252,\n",
       "         6: 916,\n",
       "         14: 458,\n",
       "         20: 224,\n",
       "         11: 1384,\n",
       "         18: 625,\n",
       "         19: 434,\n",
       "         10: 642,\n",
       "         13: 727,\n",
       "         9: 429,\n",
       "         7: 1217,\n",
       "         8: 253,\n",
       "         22: 590,\n",
       "         12: 534,\n",
       "         5: 583})"
      ]
     },
     "execution_count": 10,
     "metadata": {},
     "output_type": "execute_result"
    }
   ],
   "source": [
    "from collections import Counter\n",
    "Counter(df['country'])"
   ]
  },
  {
   "cell_type": "code",
   "execution_count": 9,
   "id": "9c0b895d",
   "metadata": {},
   "outputs": [
    {
     "data": {
      "text/plain": [
       "Counter({False: 6964, True: 3946})"
      ]
     },
     "execution_count": 9,
     "metadata": {},
     "output_type": "execute_result"
    }
   ],
   "source": [
    "Counter(df['urban'])"
   ]
  },
  {
   "cell_type": "code",
   "execution_count": null,
   "id": "20548611",
   "metadata": {},
   "outputs": [],
   "source": []
  },
  {
   "cell_type": "code",
   "execution_count": null,
   "id": "1bf1928c",
   "metadata": {},
   "outputs": [],
   "source": []
  }
 ],
 "metadata": {
  "kernelspec": {
   "display_name": "Python 3 (ipykernel)",
   "language": "python",
   "name": "python3"
  },
  "language_info": {
   "codemirror_mode": {
    "name": "ipython",
    "version": 3
   },
   "file_extension": ".py",
   "mimetype": "text/x-python",
   "name": "python",
   "nbconvert_exporter": "python",
   "pygments_lexer": "ipython3",
   "version": "3.9.12"
  },
  "toc": {
   "base_numbering": 1,
   "nav_menu": {},
   "number_sections": true,
   "sideBar": true,
   "skip_h1_title": false,
   "title_cell": "Table of Contents",
   "title_sidebar": "Contents",
   "toc_cell": false,
   "toc_position": {},
   "toc_section_display": true,
   "toc_window_display": false
  }
 },
 "nbformat": 4,
 "nbformat_minor": 5
}
